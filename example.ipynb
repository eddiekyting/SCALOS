{
 "cells": [
  {
   "cell_type": "code",
   "execution_count": 4,
   "id": "5e136198",
   "metadata": {},
   "outputs": [],
   "source": [
    "import numpy as np\n",
    "import pandas as pd\n",
    "import scipy as sp\n",
    "import matplotlib.pyplot as plt\n",
    "import pip\n",
    "#import altair as alt\n",
    "import sys\n",
    "sys.path.append(\"..\")\n",
    "from scalos.src import runlog_search\n",
    "from scalos.src import runlog_cleanup\n",
    "from scalos.src import data_cleanup\n",
    "from scalos.src import data_extract\n",
    "from scalos.src import data_interp_der\n",
    "from scalos.src import data_plt\n",
    "# pip.main([\"install\", \"openpyxl\"])\n",
    "%matplotlib inline"
   ]
  },
  {
   "cell_type": "code",
   "execution_count": 5,
   "id": "34433f77",
   "metadata": {},
   "outputs": [],
   "source": [
    "df_log2298 = pd.read_excel(r'~/SCALOS/data/runlogs/autosort_runlog2298.xlsx')\n",
    "df_log2320 = pd.read_excel(r'~/SCALOS/data/runlogs/autosort_runlog2320.xlsx')\n",
    "df_log2326 = pd.read_excel(r'~/SCALOS/data/runlogs/autosort_runlog2326.xlsx')\n",
    "df_log2331 = pd.read_excel(r'~/SCALOS/data/runlogs/autosort_runlog2331.xlsx')\n",
    "df_data2298 = pd.read_csv(r'~/SCALOS/data/finaldata_uw2298.csv')\n",
    "df_data2320 = pd.read_csv(r'~/SCALOS/data/finaldata_uw2320.csv')\n",
    "df_data2326 = pd.read_csv(r'~/SCALOS/data/finaldata_uw2326.csv')\n",
    "df_data2331 = pd.read_csv(r'~/SCALOS/data/finaldata_uw2331.csv')"
   ]
  },
  {
   "cell_type": "code",
   "execution_count": 6,
   "id": "1d0ee0c3",
   "metadata": {},
   "outputs": [],
   "source": [
    "INPUT = [\"F15\",\"A15\",\"W20\"]"
   ]
  },
  {
   "cell_type": "code",
   "execution_count": 7,
   "id": "4145cbd3",
   "metadata": {},
   "outputs": [],
   "source": [
    "test_list, run_num_list = runlog_search.search_configuration(INPUT)"
   ]
  },
  {
   "cell_type": "code",
   "execution_count": null,
   "id": "5fd9dc90",
   "metadata": {},
   "outputs": [],
   "source": []
  }
 ],
 "metadata": {
  "kernelspec": {
   "display_name": "Python 3 (ipykernel)",
   "language": "python",
   "name": "python3"
  },
  "language_info": {
   "codemirror_mode": {
    "name": "ipython",
    "version": 3
   },
   "file_extension": ".py",
   "mimetype": "text/x-python",
   "name": "python",
   "nbconvert_exporter": "python",
   "pygments_lexer": "ipython3",
   "version": "3.9.12"
  }
 },
 "nbformat": 4,
 "nbformat_minor": 5
}
