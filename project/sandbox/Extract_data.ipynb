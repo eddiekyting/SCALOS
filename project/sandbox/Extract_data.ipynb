{
 "cells": [
  {
   "cell_type": "code",
   "execution_count": 1,
   "id": "a8c8c5ac",
   "metadata": {},
   "outputs": [],
   "source": [
    "import numpy as np\n",
    "import pandas as pd\n",
    "import matplotlib.pyplot as plt\n",
    "import pip\n",
    "# pip.main([\"install\", \"openpyxl\"])\n",
    "%matplotlib inline"
   ]
  },
  {
   "cell_type": "code",
   "execution_count": 2,
   "id": "297fa83d",
   "metadata": {},
   "outputs": [],
   "source": [
    "df_log2298 = pd.read_excel(r'~/SCALOS/project/runlogs/Autosort Run Log 2298.xlsx')\n",
    "df_log2320 = pd.read_excel(r'~/SCALOS/project/runlogs/Autosort Run Log 2320.xlsx')\n",
    "df_log2326 = pd.read_excel(r'~/SCALOS/project/runlogs/Autosort Run Log 2326.xlsx')\n",
    "df_log2331 = pd.read_excel(r'~/SCALOS/project/runlogs/Autosort Run Log 2331.xlsx')\n",
    "df_data2298 = pd.read_csv(r'~/SCALOS/project/data/finaldata_uw2298.csv')\n",
    "df_data2320 = pd.read_csv(r'~/SCALOS/project/data/finaldata_uw2320.csv')\n",
    "df_data2326 = pd.read_csv(r'~/SCALOS/project/data/finaldata_uw2326.csv')\n",
    "df_data2331 = pd.read_csv(r'~/SCALOS/project/data/finaldata_uw2331.csv')"
   ]
  },
  {
   "cell_type": "code",
   "execution_count": 3,
   "id": "942f7b45",
   "metadata": {},
   "outputs": [],
   "source": [
    "def runlog_cleanup(df_log2298, df_log2320, df_log2326, df_log2331):\n",
    "    # clean up uw2298\n",
    "    del df_log2298[\"Riley's Stress Level\"]                                    # delete unncessary column \n",
    "    df_log2298.rename(columns = {'FLAP L/R':'IB FLAP L/R'}, inplace = True)   # Rename inconsistant column\n",
    "    df_log2298.rename(columns = {'AIL L/R':'OB AIL L/R'}, inplace = True)     # Rename inconsistant column\n",
    "    df_log2298.rename(columns = {'LE DEF':'LE IB/OB'}, inplace = True)        # Rename inconsistant column\n",
    "    df_log2298.rename(columns = {'TRIP DEF':'TRIP DOTS'}, inplace = True)     # Rename inconsistant column\n",
    "    df_log2298.insert(1,'TEST', 2298)                                         # add entry number \n",
    "    df_log2298['Nacelle Blockage L/R']= np.nan\n",
    "    df_log2298['Spoiler L/R']= np.nan\n",
    "    temp = df_log2298['DATE']\n",
    "    del df_log2298['DATE']\n",
    "    df_log2298['DATE']= temp\n",
    "    df_log2298.columns.tolist() \n",
    "    # clean up uw2320\n",
    "    df_log2320.rename(columns = {'FLAP L/R':'IB FLAP L/R'}, inplace = True)\n",
    "    df_log2320.rename(columns = {'AIL L/R':'OB AIL L/R'}, inplace = True)\n",
    "    df_log2320.rename(columns = {'TRIP DEF':'TRIP DOTS'}, inplace = True)\n",
    "    df_log2320.insert(1,'TEST', 2320)\n",
    "    df_log2320['Nacelle Blockage L/R']= np.nan\n",
    "    df_log2320['Spoiler L/R']= np.nan\n",
    "    temp = df_log2320['DATE']\n",
    "    del df_log2320['DATE']\n",
    "    df_log2320['DATE']= temp\n",
    "    # clean up uw2326\n",
    "    df_log2326.insert(1,'TEST', 2326)\n",
    "    df_log2326['Nacelle Blockage L/R']= np.nan\n",
    "    df_log2326['Spoiler L/R']= np.nan\n",
    "    temp = df_log2326['DATE']\n",
    "    del df_log2326['DATE']\n",
    "    df_log2326['DATE']= temp\n",
    "    # clean up uw2331 \n",
    "    df_log2331.insert(1,'TEST', 2331)\n",
    "    # column title are consistant \n",
    "    if df_log2298.columns.tolist() !=  df_log2320.columns.tolist():\n",
    "        raise ValueError(\"Either 2298 or 2320 data is not right!\") \n",
    "\n",
    "    if df_log2298.columns.tolist() !=  df_log2326.columns.tolist():\n",
    "        raise ValueError(\"Either 2298 or 2326 data is not right!\")\n",
    "\n",
    "    if df_log2298.columns.tolist() !=  df_log2331.columns.tolist():\n",
    "        raise ValueError(\"Either 2298 or 2331 data is not right!\")\n",
    "\n",
    "    # Concatinate all run logs into single data frame\n",
    "    df_log = pd.concat([df_log2298, df_log2320, df_log2326, df_log2331], ignore_index=True,axis=0)\n",
    "#     # Exclude weight tare runs\n",
    "#     df_log[np.isnan(df_log['WT.\\nTARE\\nRUN']) == False]\n",
    "    return df_log, df_log2298, df_log2320, df_log2326, df_log2331"
   ]
  },
  {
   "cell_type": "code",
   "execution_count": 4,
   "id": "a9ad44df",
   "metadata": {},
   "outputs": [],
   "source": [
    "def data_cleanup(df_data2298, df_data2320, df_data2326, df_data2331):\n",
    "    if df_data2298.columns.tolist() !=  df_data2320.columns.tolist():\n",
    "        raise ValueError(\"Either 2298 or 2320 data is not right!\")\n",
    "\n",
    "    if df_data2298.columns.tolist() !=  df_data2326.columns.tolist():\n",
    "        raise ValueError(\"Either 2298 or 2326 data is not right!\")\n",
    "\n",
    "    if df_data2298.columns.tolist() !=  df_data2331.columns.tolist():\n",
    "        raise ValueError(\"Either 2298 or 2331 data is not right!\")\n",
    "\n",
    "    df_data = pd.concat([df_data2298, df_data2320, df_data2326, df_data2331], ignore_index=True,axis=0)\n",
    "    return df_data"
   ]
  },
  {
   "cell_type": "code",
   "execution_count": 5,
   "id": "13b34031",
   "metadata": {},
   "outputs": [],
   "source": [
    "df_log, df_log2298, df_log2320, df_log2326, df_log2331 = runlog_cleanup(df_log2298, df_log2320, df_log2326, df_log2331 )\n",
    "df_data = data_cleanup(df_data2298, df_data2320, df_data2326, df_data2331)"
   ]
  },
  {
   "cell_type": "code",
   "execution_count": 28,
   "id": "5ce10233",
   "metadata": {},
   "outputs": [],
   "source": [
    "def data_extract(df_log, df_data, test, runnum):\n",
    "    # Unit test \n",
    "    if type(test) != type(runnum): \n",
    "        raise ValueError(\"Test entries and run numbers must be consistant\")    \n",
    "\n",
    "    df_data_sub = pd.DataFrame()\n",
    "    df_log_sub = pd.DataFrame()\n",
    "    # Unit test \n",
    "    for i in range(len(test)):\n",
    "        # Entries must be integer\n",
    "        if not isinstance(test[i], int) or not isinstance(runnum[i], int):\n",
    "            raise ValueError(\"Test entries and run numbers must be integer!\")\n",
    "\n",
    "        # Entries must be not empty \n",
    "        if not np.any(test[i]) or not np.any(runnum[i]):\n",
    "            raise ValueError(\"Test entries and run numbers must be not empty!\")\n",
    "\n",
    "        # Test entries must be valid \n",
    "        if not any(np.unique(df_log[df_log.columns.tolist()[1]]) == test[i]):\n",
    "            raise ValueError(\"Test entries are invalid!\")\n",
    "\n",
    "        # Run number must be valid \n",
    "        if runnum[i] < 0 or runnum[i] > np.max(df_log[df_log.columns.tolist()[0]][df_log[df_log.columns.tolist()[1]] == test[i]]):\n",
    "            raise ValueError(\"Run numbers are invalid!\")\n",
    "\n",
    "        # Entries must be not weight tare \n",
    "        if np.any(pd.isna(df_log[df_log.columns.tolist()[2]][(df_log[df_log.columns.tolist()[1]] == test[i]) & (df_log[df_log.columns.tolist()[1]] == runnum[i])])):\n",
    "            raise ValueError(\"Test num and corresponding run num is weight tare\")\n",
    "\n",
    "        df_log_sub  = pd.concat([df_log_sub,  df_log[(df_log[df_log.columns.tolist()[1]] == test[i]) & (df_log[df_log.columns.tolist()[0]] == runnum[i])]], ignore_index = True, axis = 0)\n",
    "        df_data_sub = pd.concat([df_data_sub, df_data[(df_data[df_data.columns.tolist()[1]] == test[i]) & (df_data[df_data.columns.tolist()[0]] == runnum[i])]], ignore_index = True, axis = 0) \n",
    "\n",
    "    # Run type must be consistant\n",
    "    if len(pd.unique(df_log_sub[df_log.columns.tolist()[4]][0])) > 1:\n",
    "        raise ValueError(\"Run type is inconsistant!\")\n",
    "        \n",
    "    return df_log_sub, df_data_sub "
   ]
  },
  {
   "cell_type": "code",
   "execution_count": 29,
   "id": "1b4121a4",
   "metadata": {},
   "outputs": [],
   "source": [
    "test = [2320, 2320, 2320, 2320, 2320]\n",
    "runnum = [49, 51, 37, 56, 57]\n",
    "df_log_sub, df_data_sub = data_extract(df_log, df_data, test, runnum)"
   ]
  },
  {
   "cell_type": "code",
   "execution_count": null,
   "id": "02d8e103",
   "metadata": {},
   "outputs": [],
   "source": []
  }
 ],
 "metadata": {
  "kernelspec": {
   "display_name": "Python 3 (ipykernel)",
   "language": "python",
   "name": "python3"
  },
  "language_info": {
   "codemirror_mode": {
    "name": "ipython",
    "version": 3
   },
   "file_extension": ".py",
   "mimetype": "text/x-python",
   "name": "python",
   "nbconvert_exporter": "python",
   "pygments_lexer": "ipython3",
   "version": "3.9.12"
  }
 },
 "nbformat": 4,
 "nbformat_minor": 5
}
