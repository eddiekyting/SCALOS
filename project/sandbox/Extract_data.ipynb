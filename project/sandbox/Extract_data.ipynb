{
 "cells": [
  {
   "cell_type": "code",
   "execution_count": 3,
   "id": "a8c8c5ac",
   "metadata": {},
   "outputs": [
    {
     "name": "stderr",
     "output_type": "stream",
     "text": [
      "WARNING: pip is being invoked by an old script wrapper. This will fail in a future version of pip.\n",
      "Please see https://github.com/pypa/pip/issues/5599 for advice on fixing the underlying issue.\n",
      "To avoid this problem you can invoke Python with '-m pip' instead of running pip directly.\n"
     ]
    },
    {
     "data": {
      "text/html": [
       "<pre style=\"white-space:pre;overflow-x:auto;line-height:normal;font-family:Menlo,'DejaVu Sans Mono',consolas,'Courier New',monospace\">Collecting openpyxl\n",
       "</pre>\n"
      ],
      "text/plain": [
       "Collecting openpyxl\n"
      ]
     },
     "metadata": {},
     "output_type": "display_data"
    },
    {
     "data": {
      "text/html": [
       "<pre style=\"white-space:pre;overflow-x:auto;line-height:normal;font-family:Menlo,'DejaVu Sans Mono',consolas,'Courier New',monospace\">  Downloading openpyxl-3.0.10-py2.py3-none-any.whl (242 kB)\n",
       "</pre>\n"
      ],
      "text/plain": [
       "  Downloading openpyxl-3.0.10-py2.py3-none-any.whl (242 kB)\n"
      ]
     },
     "metadata": {},
     "output_type": "display_data"
    },
    {
     "data": {
      "application/vnd.jupyter.widget-view+json": {
       "model_id": "9cfcec151c0f4590abfbdbb4acca05af",
       "version_major": 2,
       "version_minor": 0
      },
      "text/plain": [
       "Output()"
      ]
     },
     "metadata": {},
     "output_type": "display_data"
    },
    {
     "data": {
      "text/html": [
       "<pre style=\"white-space:pre;overflow-x:auto;line-height:normal;font-family:Menlo,'DejaVu Sans Mono',consolas,'Courier New',monospace\"></pre>\n"
      ],
      "text/plain": []
     },
     "metadata": {},
     "output_type": "display_data"
    },
    {
     "data": {
      "text/html": [
       "<pre style=\"white-space:pre;overflow-x:auto;line-height:normal;font-family:Menlo,'DejaVu Sans Mono',consolas,'Courier New',monospace\">\n",
       "</pre>\n"
      ],
      "text/plain": [
       "\n"
      ]
     },
     "metadata": {},
     "output_type": "display_data"
    },
    {
     "data": {
      "text/html": [
       "<pre style=\"white-space:pre;overflow-x:auto;line-height:normal;font-family:Menlo,'DejaVu Sans Mono',consolas,'Courier New',monospace\">Collecting et-xmlfile\n",
       "</pre>\n"
      ],
      "text/plain": [
       "Collecting et-xmlfile\n"
      ]
     },
     "metadata": {},
     "output_type": "display_data"
    },
    {
     "data": {
      "text/html": [
       "<pre style=\"white-space:pre;overflow-x:auto;line-height:normal;font-family:Menlo,'DejaVu Sans Mono',consolas,'Courier New',monospace\">  Downloading et_xmlfile-1.1.0-py3-none-any.whl (4.7 kB)\n",
       "</pre>\n"
      ],
      "text/plain": [
       "  Downloading et_xmlfile-1.1.0-py3-none-any.whl (4.7 kB)\n"
      ]
     },
     "metadata": {},
     "output_type": "display_data"
    },
    {
     "data": {
      "text/html": [
       "<pre style=\"white-space:pre;overflow-x:auto;line-height:normal;font-family:Menlo,'DejaVu Sans Mono',consolas,'Courier New',monospace\">Installing collected packages: et-xmlfile, openpyxl\n",
       "</pre>\n"
      ],
      "text/plain": [
       "Installing collected packages: et-xmlfile, openpyxl\n"
      ]
     },
     "metadata": {},
     "output_type": "display_data"
    },
    {
     "data": {
      "text/html": [
       "<pre style=\"white-space:pre;overflow-x:auto;line-height:normal;font-family:Menlo,'DejaVu Sans Mono',consolas,'Courier New',monospace\">Successfully installed et-xmlfile-1.1.0 openpyxl-3.0.10\n",
       "</pre>\n"
      ],
      "text/plain": [
       "Successfully installed et-xmlfile-1.1.0 openpyxl-3.0.10\n"
      ]
     },
     "metadata": {},
     "output_type": "display_data"
    }
   ],
   "source": [
    "import numpy as np\n",
    "import pandas as pd\n",
    "import matplotlib.pyplot as plt\n",
    "import pip\n",
    "pip.main([\"install\", \"openpyxl\"])\n",
    "%matplotlib inline"
   ]
  },
  {
   "cell_type": "markdown",
   "id": "c81211a1",
   "metadata": {},
   "source": [
    "### Project Structure \n",
    "├── Project\n",
    "\n",
    "│   ├── CSE583 Project Proposal.pptx\n",
    "\n",
    "│   ├── Data\n",
    "\n",
    "│   │   ├── finaldata_uw2128.csv\n",
    "\n",
    "│   │   ├── finaldata_uw2292.csv\n",
    "\n",
    "│   │   ├── finaldata_uw2295.csv\n",
    "\n",
    "│   │   ├── finaldata_uw2298.csv\n",
    "\n",
    "│   │   ├── finaldata_uw2320.csv\n",
    "\n",
    "│   │   ├── finaldata_uw2326.csv\n",
    "\n",
    "│   │   └── finaldata_uw2331.csv\n",
    "\n",
    "│   ├── Doc\n",
    "\n",
    "│   │   └── Design.md\n",
    "\n",
    "│   ├── Ref\n",
    "\n",
    "│   │   ├── 6.2022-1800.pdf\n",
    "\n",
    "│   │   └── 6.2022-1803.pdf\n",
    "\n",
    "│   ├── Runlogs\n",
    "\n",
    "│   │   ├── Autosort Run Log 2128.xlsx\n",
    "\n",
    "│   │   ├── Autosort Run Log 2292.xlsx\n",
    "\n",
    "│   │   ├── Autosort Run Log 2295.xlsx\n",
    "\n",
    "│   │   ├── Autosort Run Log 2298.xlsx\n",
    "\n",
    "│   │   ├── Autosort Run Log 2320.xlsx\n",
    "\n",
    "│   │   ├── Autosort Run Log 2326.xlsx\n",
    "\n",
    "│   │   └── Autosort Run Log 2331.xlsx\n",
    "\n",
    "│   └── Sandbox\n",
    "\n",
    "│       └── Extract_data.ipynb\n",
    "\n",
    "└── README.md"
   ]
  },
  {
   "cell_type": "markdown",
   "id": "d51f7c33",
   "metadata": {},
   "source": [
    "### Run log and Data \n",
    "Rung log contains the test run info including \n",
    "\n",
    "    1.  RUN NO:         Run number for specific entry \n",
    "    \n",
    "    2.  WT.\\nTARE\\nRUN: Wind off for weight tare\n",
    "    \n",
    "    3.  CONFIGURATION:  Tested model configuration specification \n",
    "    \n",
    "                        (wing, fuselage, nacelle, vertical tail, horizontal tail, canard)\n",
    "                        \n",
    "    5.  TYPE OF RUN:    Pitch run (P) or yaw run (Y)\n",
    "    \n",
    "    4.  a:              Pich angle (deg) = angle of attack \n",
    "    \n",
    "    5.  Y:              Yaw angle (deg)\n",
    "    \n",
    "    6.  qnom (psi):     Nominal dynamic pressure \n",
    "    \n",
    "    7.  FLAP L/R:       Wing flap deflection of left/right\n",
    "    \n",
    "    8.  AIL L/R:        Wing aileron deflection of left/right\n",
    "    \n",
    "    9.  STAB:           All moving horizontal tail deflection\n",
    "    \n",
    "    10. RUD:            Veritcal tail deflection \n",
    "    \n",
    "    11. CAN:            Canard deflection \n",
    "    \n",
    "    12. LE IB/OB:       Leading edge deflection of inboard/outboard\n",
    "    \n",
    "    13. TRIP DEF:       Turbulence trip dot definition \n",
    "    \n",
    "    14. DATE:           Test date\n",
    "    "
   ]
  },
  {
   "cell_type": "code",
   "execution_count": 6,
   "id": "297fa83d",
   "metadata": {},
   "outputs": [],
   "source": [
    "df_log = pd.read_excel(r'~/SCALOS/Project/Runlogs/Autosort Run Log 2320.xlsx')\n",
    "df_data = pd.read_csv(r'~/SCALOS/Project/Data/finaldata_uw2320.csv')"
   ]
  },
  {
   "cell_type": "code",
   "execution_count": 10,
   "id": "e52eeaac",
   "metadata": {},
   "outputs": [
    {
     "data": {
      "text/html": [
       "<div>\n",
       "<style scoped>\n",
       "    .dataframe tbody tr th:only-of-type {\n",
       "        vertical-align: middle;\n",
       "    }\n",
       "\n",
       "    .dataframe tbody tr th {\n",
       "        vertical-align: top;\n",
       "    }\n",
       "\n",
       "    .dataframe thead th {\n",
       "        text-align: right;\n",
       "    }\n",
       "</style>\n",
       "<table border=\"1\" class=\"dataframe\">\n",
       "  <thead>\n",
       "    <tr style=\"text-align: right;\">\n",
       "      <th></th>\n",
       "      <th>RUN NO.</th>\n",
       "      <th>WT.\\nTARE\\nRUN</th>\n",
       "      <th>CONFIGURATION</th>\n",
       "      <th>TYPE OF RUN</th>\n",
       "      <th>a</th>\n",
       "      <th>Y</th>\n",
       "      <th>qnom</th>\n",
       "      <th>FLAP L/R</th>\n",
       "      <th>AIL L/R</th>\n",
       "      <th>STAB</th>\n",
       "      <th>RUD</th>\n",
       "      <th>CAN</th>\n",
       "      <th>LE IB/OB</th>\n",
       "      <th>TRIP DEF</th>\n",
       "      <th>DATE</th>\n",
       "    </tr>\n",
       "  </thead>\n",
       "  <tbody>\n",
       "    <tr>\n",
       "      <th>0</th>\n",
       "      <td>NaN</td>\n",
       "      <td>NaN</td>\n",
       "      <td>NaN</td>\n",
       "      <td>NaN</td>\n",
       "      <td>DEG</td>\n",
       "      <td>DEG</td>\n",
       "      <td>PSF</td>\n",
       "      <td>DEG</td>\n",
       "      <td>DEG</td>\n",
       "      <td>DEG</td>\n",
       "      <td>DEG</td>\n",
       "      <td>NaN</td>\n",
       "      <td>NaN</td>\n",
       "      <td>NaN</td>\n",
       "      <td>2021</td>\n",
       "    </tr>\n",
       "    <tr>\n",
       "      <th>1</th>\n",
       "      <td>1.0</td>\n",
       "      <td>NaN</td>\n",
       "      <td>W15</td>\n",
       "      <td>WT TARE</td>\n",
       "      <td>-10/30</td>\n",
       "      <td>-12/12</td>\n",
       "      <td>NaN</td>\n",
       "      <td>0/0</td>\n",
       "      <td>0/0</td>\n",
       "      <td>NaN</td>\n",
       "      <td>NaN</td>\n",
       "      <td>NaN</td>\n",
       "      <td>0/0</td>\n",
       "      <td>NaN</td>\n",
       "      <td>2021-06-21 00:00:00</td>\n",
       "    </tr>\n",
       "    <tr>\n",
       "      <th>2</th>\n",
       "      <td>2.0</td>\n",
       "      <td>1.0</td>\n",
       "      <td>W15</td>\n",
       "      <td>P6</td>\n",
       "      <td>A3</td>\n",
       "      <td>0</td>\n",
       "      <td>4</td>\n",
       "      <td>0/0</td>\n",
       "      <td>0/0</td>\n",
       "      <td>NaN</td>\n",
       "      <td>NaN</td>\n",
       "      <td>NaN</td>\n",
       "      <td>0/0</td>\n",
       "      <td>NaN</td>\n",
       "      <td>2021-06-21 00:00:00</td>\n",
       "    </tr>\n",
       "    <tr>\n",
       "      <th>3</th>\n",
       "      <td>3.0</td>\n",
       "      <td>1.0</td>\n",
       "      <td>W15</td>\n",
       "      <td>P6</td>\n",
       "      <td>A3</td>\n",
       "      <td>0</td>\n",
       "      <td>6.27</td>\n",
       "      <td>0/0</td>\n",
       "      <td>0/0</td>\n",
       "      <td>NaN</td>\n",
       "      <td>NaN</td>\n",
       "      <td>NaN</td>\n",
       "      <td>0/0</td>\n",
       "      <td>NaN</td>\n",
       "      <td>2021-06-21 00:00:00</td>\n",
       "    </tr>\n",
       "    <tr>\n",
       "      <th>4</th>\n",
       "      <td>4.0</td>\n",
       "      <td>1.0</td>\n",
       "      <td>W15</td>\n",
       "      <td>P6</td>\n",
       "      <td>A3</td>\n",
       "      <td>0</td>\n",
       "      <td>14.11</td>\n",
       "      <td>0/0</td>\n",
       "      <td>0/0</td>\n",
       "      <td>NaN</td>\n",
       "      <td>NaN</td>\n",
       "      <td>NaN</td>\n",
       "      <td>0/0</td>\n",
       "      <td>NaN</td>\n",
       "      <td>2021-06-21 00:00:00</td>\n",
       "    </tr>\n",
       "  </tbody>\n",
       "</table>\n",
       "</div>"
      ],
      "text/plain": [
       "   RUN NO.  WT.\\nTARE\\nRUN CONFIGURATION TYPE OF RUN       a       Y   qnom  \\\n",
       "0      NaN             NaN           NaN         NaN     DEG     DEG    PSF   \n",
       "1      1.0             NaN           W15     WT TARE  -10/30  -12/12    NaN   \n",
       "2      2.0             1.0           W15          P6      A3       0      4   \n",
       "3      3.0             1.0           W15          P6      A3       0   6.27   \n",
       "4      4.0             1.0           W15          P6      A3       0  14.11   \n",
       "\n",
       "  FLAP L/R AIL L/R STAB  RUD  CAN LE IB/OB TRIP DEF                 DATE  \n",
       "0      DEG     DEG  DEG  DEG  NaN      NaN      NaN                 2021  \n",
       "1      0/0     0/0  NaN  NaN  NaN      0/0      NaN  2021-06-21 00:00:00  \n",
       "2      0/0     0/0  NaN  NaN  NaN      0/0      NaN  2021-06-21 00:00:00  \n",
       "3      0/0     0/0  NaN  NaN  NaN      0/0      NaN  2021-06-21 00:00:00  \n",
       "4      0/0     0/0  NaN  NaN  NaN      0/0      NaN  2021-06-21 00:00:00  "
      ]
     },
     "execution_count": 10,
     "metadata": {},
     "output_type": "execute_result"
    }
   ],
   "source": [
    "df_log.head()"
   ]
  },
  {
   "cell_type": "code",
   "execution_count": 11,
   "id": "942f7b45",
   "metadata": {},
   "outputs": [
    {
     "data": {
      "text/plain": [
       "['RUN NO.',\n",
       " 'WT.\\nTARE\\nRUN',\n",
       " 'CONFIGURATION',\n",
       " 'TYPE OF RUN',\n",
       " 'a',\n",
       " 'Y',\n",
       " 'qnom',\n",
       " 'FLAP L/R',\n",
       " 'AIL L/R',\n",
       " 'STAB',\n",
       " 'RUD',\n",
       " 'CAN',\n",
       " 'LE IB/OB',\n",
       " 'TRIP DEF',\n",
       " 'DATE']"
      ]
     },
     "execution_count": 11,
     "metadata": {},
     "output_type": "execute_result"
    }
   ],
   "source": [
    "df_log.columns.tolist()"
   ]
  },
  {
   "cell_type": "code",
   "execution_count": 12,
   "id": "a48be680",
   "metadata": {},
   "outputs": [
    {
     "data": {
      "text/html": [
       "<div>\n",
       "<style scoped>\n",
       "    .dataframe tbody tr th:only-of-type {\n",
       "        vertical-align: middle;\n",
       "    }\n",
       "\n",
       "    .dataframe tbody tr th {\n",
       "        vertical-align: top;\n",
       "    }\n",
       "\n",
       "    .dataframe thead th {\n",
       "        text-align: right;\n",
       "    }\n",
       "</style>\n",
       "<table border=\"1\" class=\"dataframe\">\n",
       "  <thead>\n",
       "    <tr style=\"text-align: right;\">\n",
       "      <th></th>\n",
       "      <th>RUN</th>\n",
       "      <th>TEST</th>\n",
       "      <th>TP</th>\n",
       "      <th>ALPHAC</th>\n",
       "      <th>BETA</th>\n",
       "      <th>PSI</th>\n",
       "      <th>QC</th>\n",
       "      <th>RE_MAC</th>\n",
       "      <th>TEMPTS</th>\n",
       "      <th>CLWA</th>\n",
       "      <th>...</th>\n",
       "      <th>CNSA35</th>\n",
       "      <th>CRSA30</th>\n",
       "      <th>CRSA35</th>\n",
       "      <th>CMBA30</th>\n",
       "      <th>CMBA35</th>\n",
       "      <th>CNBA30</th>\n",
       "      <th>CNBA35</th>\n",
       "      <th>CRBA30</th>\n",
       "      <th>CRBA35</th>\n",
       "      <th>LOD</th>\n",
       "    </tr>\n",
       "  </thead>\n",
       "  <tbody>\n",
       "    <tr>\n",
       "      <th>0</th>\n",
       "      <td>2.0</td>\n",
       "      <td>2320.0</td>\n",
       "      <td>2.0</td>\n",
       "      <td>-10.195</td>\n",
       "      <td>-0.02</td>\n",
       "      <td>0.02</td>\n",
       "      <td>4.0319</td>\n",
       "      <td>749115.0</td>\n",
       "      <td>87.235</td>\n",
       "      <td>-0.37174</td>\n",
       "      <td>...</td>\n",
       "      <td>0.00022</td>\n",
       "      <td>0.00082</td>\n",
       "      <td>0.00081</td>\n",
       "      <td>0.00677</td>\n",
       "      <td>-0.01202</td>\n",
       "      <td>0.00004</td>\n",
       "      <td>0.00007</td>\n",
       "      <td>0.00083</td>\n",
       "      <td>0.00083</td>\n",
       "      <td>-6.4255</td>\n",
       "    </tr>\n",
       "    <tr>\n",
       "      <th>1</th>\n",
       "      <td>2.0</td>\n",
       "      <td>2320.0</td>\n",
       "      <td>3.0</td>\n",
       "      <td>-9.193</td>\n",
       "      <td>-0.02</td>\n",
       "      <td>0.02</td>\n",
       "      <td>4.0219</td>\n",
       "      <td>748156.0</td>\n",
       "      <td>87.256</td>\n",
       "      <td>-0.32151</td>\n",
       "      <td>...</td>\n",
       "      <td>0.00023</td>\n",
       "      <td>0.00055</td>\n",
       "      <td>0.00055</td>\n",
       "      <td>0.00720</td>\n",
       "      <td>-0.00903</td>\n",
       "      <td>0.00011</td>\n",
       "      <td>0.00014</td>\n",
       "      <td>0.00058</td>\n",
       "      <td>0.00058</td>\n",
       "      <td>-6.9576</td>\n",
       "    </tr>\n",
       "    <tr>\n",
       "      <th>2</th>\n",
       "      <td>2.0</td>\n",
       "      <td>2320.0</td>\n",
       "      <td>4.0</td>\n",
       "      <td>-8.184</td>\n",
       "      <td>-0.02</td>\n",
       "      <td>0.02</td>\n",
       "      <td>4.0750</td>\n",
       "      <td>753096.0</td>\n",
       "      <td>87.243</td>\n",
       "      <td>-0.27187</td>\n",
       "      <td>...</td>\n",
       "      <td>0.00038</td>\n",
       "      <td>0.00095</td>\n",
       "      <td>0.00094</td>\n",
       "      <td>0.00659</td>\n",
       "      <td>-0.00711</td>\n",
       "      <td>0.00020</td>\n",
       "      <td>0.00024</td>\n",
       "      <td>0.00098</td>\n",
       "      <td>0.00098</td>\n",
       "      <td>-7.5960</td>\n",
       "    </tr>\n",
       "    <tr>\n",
       "      <th>3</th>\n",
       "      <td>2.0</td>\n",
       "      <td>2320.0</td>\n",
       "      <td>5.0</td>\n",
       "      <td>-7.175</td>\n",
       "      <td>-0.02</td>\n",
       "      <td>0.02</td>\n",
       "      <td>4.0352</td>\n",
       "      <td>749477.0</td>\n",
       "      <td>87.222</td>\n",
       "      <td>-0.22222</td>\n",
       "      <td>...</td>\n",
       "      <td>0.00046</td>\n",
       "      <td>0.00172</td>\n",
       "      <td>0.00171</td>\n",
       "      <td>0.00485</td>\n",
       "      <td>-0.00634</td>\n",
       "      <td>0.00021</td>\n",
       "      <td>0.00025</td>\n",
       "      <td>0.00176</td>\n",
       "      <td>0.00176</td>\n",
       "      <td>-8.1499</td>\n",
       "    </tr>\n",
       "    <tr>\n",
       "      <th>4</th>\n",
       "      <td>2.0</td>\n",
       "      <td>2320.0</td>\n",
       "      <td>6.0</td>\n",
       "      <td>-6.093</td>\n",
       "      <td>-0.02</td>\n",
       "      <td>0.02</td>\n",
       "      <td>4.0033</td>\n",
       "      <td>746509.0</td>\n",
       "      <td>87.219</td>\n",
       "      <td>-0.16873</td>\n",
       "      <td>...</td>\n",
       "      <td>0.00039</td>\n",
       "      <td>0.00131</td>\n",
       "      <td>0.00131</td>\n",
       "      <td>0.00363</td>\n",
       "      <td>-0.00486</td>\n",
       "      <td>0.00021</td>\n",
       "      <td>0.00025</td>\n",
       "      <td>0.00134</td>\n",
       "      <td>0.00134</td>\n",
       "      <td>-8.3994</td>\n",
       "    </tr>\n",
       "  </tbody>\n",
       "</table>\n",
       "<p>5 rows × 82 columns</p>\n",
       "</div>"
      ],
      "text/plain": [
       "   RUN    TEST   TP  ALPHAC  BETA   PSI      QC    RE_MAC  TEMPTS     CLWA  \\\n",
       "0  2.0  2320.0  2.0 -10.195 -0.02  0.02  4.0319  749115.0  87.235 -0.37174   \n",
       "1  2.0  2320.0  3.0  -9.193 -0.02  0.02  4.0219  748156.0  87.256 -0.32151   \n",
       "2  2.0  2320.0  4.0  -8.184 -0.02  0.02  4.0750  753096.0  87.243 -0.27187   \n",
       "3  2.0  2320.0  5.0  -7.175 -0.02  0.02  4.0352  749477.0  87.222 -0.22222   \n",
       "4  2.0  2320.0  6.0  -6.093 -0.02  0.02  4.0033  746509.0  87.219 -0.16873   \n",
       "\n",
       "   ...   CNSA35   CRSA30   CRSA35   CMBA30   CMBA35   CNBA30   CNBA35  \\\n",
       "0  ...  0.00022  0.00082  0.00081  0.00677 -0.01202  0.00004  0.00007   \n",
       "1  ...  0.00023  0.00055  0.00055  0.00720 -0.00903  0.00011  0.00014   \n",
       "2  ...  0.00038  0.00095  0.00094  0.00659 -0.00711  0.00020  0.00024   \n",
       "3  ...  0.00046  0.00172  0.00171  0.00485 -0.00634  0.00021  0.00025   \n",
       "4  ...  0.00039  0.00131  0.00131  0.00363 -0.00486  0.00021  0.00025   \n",
       "\n",
       "    CRBA30   CRBA35     LOD  \n",
       "0  0.00083  0.00083 -6.4255  \n",
       "1  0.00058  0.00058 -6.9576  \n",
       "2  0.00098  0.00098 -7.5960  \n",
       "3  0.00176  0.00176 -8.1499  \n",
       "4  0.00134  0.00134 -8.3994  \n",
       "\n",
       "[5 rows x 82 columns]"
      ]
     },
     "execution_count": 12,
     "metadata": {},
     "output_type": "execute_result"
    }
   ],
   "source": [
    "df_data.head()"
   ]
  },
  {
   "cell_type": "code",
   "execution_count": 13,
   "id": "5ce10233",
   "metadata": {},
   "outputs": [
    {
     "data": {
      "text/plain": [
       "['RUN',\n",
       " 'TEST',\n",
       " 'TP',\n",
       " 'ALPHAC',\n",
       " 'BETA',\n",
       " 'PSI',\n",
       " 'QC',\n",
       " 'RE_MAC',\n",
       " 'TEMPTS',\n",
       " 'CLWA',\n",
       " 'CDWA',\n",
       " 'CYWA',\n",
       " 'CMWA15',\n",
       " 'CMWA20',\n",
       " 'CMWA25',\n",
       " 'CMWA33',\n",
       " 'CMWA40',\n",
       " 'CNWA15',\n",
       " 'CNWA20',\n",
       " 'CNWA25',\n",
       " 'CNWA33',\n",
       " 'CNWA40',\n",
       " 'CRWA15',\n",
       " 'CRWA20',\n",
       " 'CRWA25',\n",
       " 'CRWA33',\n",
       " 'CRWA40',\n",
       " 'CLSA',\n",
       " 'CDSA',\n",
       " 'CYSA',\n",
       " 'CMSA15',\n",
       " 'CMSA20',\n",
       " 'CMSA25',\n",
       " 'CMSA33',\n",
       " 'CMSA40',\n",
       " 'CNSA15',\n",
       " 'CNSA20',\n",
       " 'CNSA25',\n",
       " 'CNSA33',\n",
       " 'CNSA40',\n",
       " 'CRSA15',\n",
       " 'CRSA20',\n",
       " 'CRSA25',\n",
       " 'CRSA33',\n",
       " 'CRSA40',\n",
       " 'CLBA',\n",
       " 'CDBA',\n",
       " 'CYBA',\n",
       " 'CMBA15',\n",
       " 'CMBA20',\n",
       " 'CMBA25',\n",
       " 'CMBA33',\n",
       " 'CMBA40',\n",
       " 'CNBA15',\n",
       " 'CNBA20',\n",
       " 'CNBA25',\n",
       " 'CNBA33',\n",
       " 'CNBA40',\n",
       " 'CRBA15',\n",
       " 'CRBA20',\n",
       " 'CRBA25',\n",
       " 'CRBA33',\n",
       " 'CRBA40',\n",
       " 'CMWA30',\n",
       " 'CMWA35',\n",
       " 'CNWA30',\n",
       " 'CNWA35',\n",
       " 'CRWA30',\n",
       " 'CRWA35',\n",
       " 'CMSA30',\n",
       " 'CMSA35',\n",
       " 'CNSA30',\n",
       " 'CNSA35',\n",
       " 'CRSA30',\n",
       " 'CRSA35',\n",
       " 'CMBA30',\n",
       " 'CMBA35',\n",
       " 'CNBA30',\n",
       " 'CNBA35',\n",
       " 'CRBA30',\n",
       " 'CRBA35',\n",
       " 'LOD']"
      ]
     },
     "execution_count": 13,
     "metadata": {},
     "output_type": "execute_result"
    }
   ],
   "source": [
    "df_data.columns.tolist()"
   ]
  }
 ],
 "metadata": {
  "kernelspec": {
   "display_name": "Python 3 (ipykernel)",
   "language": "python",
   "name": "python3"
  },
  "language_info": {
   "codemirror_mode": {
    "name": "ipython",
    "version": 3
   },
   "file_extension": ".py",
   "mimetype": "text/x-python",
   "name": "python",
   "nbconvert_exporter": "python",
   "pygments_lexer": "ipython3",
   "version": "3.9.12"
  }
 },
 "nbformat": 4,
 "nbformat_minor": 5
}
