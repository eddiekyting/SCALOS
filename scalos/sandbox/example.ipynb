{
 "cells": [
  {
   "cell_type": "markdown",
   "id": "a294b207",
   "metadata": {},
   "source": [
    "# Initilaization\n",
    "Initialize the script by importing all nesscesary packages \n",
    "\n",
    "import numpy, panads, scipy}, matplotlib packages\n",
    "\n",
    "import module and functions from sources folder (src)."
   ]
  },
  {
   "cell_type": "code",
   "execution_count": 4,
   "id": "5e136198",
   "metadata": {},
   "outputs": [],
   "source": [
    "import numpy as np\n",
    "import pandas as pd\n",
    "import scipy as sp\n",
    "import matplotlib.pyplot as plt\n",
    "import pip\n",
    "#import altair as alt\n",
    "# import sys\n",
    "# sys.path.append(\"..\")\n",
    "from src import runlog_search\n",
    "from src import runlog_cleanup\n",
    "from src import data_cleanup\n",
    "from src import data_extract\n",
    "from src import data_interp_der\n",
    "from src import data_plt\n",
    "# pip.main([\"install\", \"openpyxl\"])\n",
    "%matplotlib inline"
   ]
  },
  {
   "cell_type": "markdown",
   "id": "dc54c4a4",
   "metadata": {},
   "source": [
    "Load the run logs and data from data folder (data and /data/runlogs) "
   ]
  },
  {
   "cell_type": "code",
   "execution_count": 5,
   "id": "34433f77",
   "metadata": {},
   "outputs": [],
   "source": [
    "df_log2298 = pd.read_excel(r'~/SCALOS/data/runlogs/autosort_runlog2298.xlsx')\n",
    "df_log2320 = pd.read_excel(r'~/SCALOS/data/runlogs/autosort_runlog2320.xlsx')\n",
    "df_log2326 = pd.read_excel(r'~/SCALOS/data/runlogs/autosort_runlog2326.xlsx')\n",
    "df_log2331 = pd.read_excel(r'~/SCALOS/data/runlogs/autosort_runlog2331.xlsx')\n",
    "df_data2298 = pd.read_csv(r'~/SCALOS/data/finaldata_uw2298.csv')\n",
    "df_data2320 = pd.read_csv(r'~/SCALOS/data/finaldata_uw2320.csv')\n",
    "df_data2326 = pd.read_csv(r'~/SCALOS/data/finaldata_uw2326.csv')\n",
    "df_data2331 = pd.read_csv(r'~/SCALOS/data/finaldata_uw2331.csv')"
   ]
  },
  {
   "cell_type": "markdown",
   "id": "1e226e01",
   "metadata": {},
   "source": [
    "Input the run logs and data in the clean up functions for data frame preperation\n",
    "\n",
    "WARNING: Users should be not modify the clean up function unless nesscesary!"
   ]
  },
  {
   "cell_type": "code",
   "execution_count": 28,
   "id": "9acac392",
   "metadata": {},
   "outputs": [],
   "source": [
    "df_log = runlog_cleanup(df_log2298, df_log2320, df_log2326, df_log2331)\n",
    "df_data = data_cleanup(df_data2298, df_data2320, df_data2326, df_data2331)"
   ]
  },
  {
   "cell_type": "markdown",
   "id": "269093e3",
   "metadata": {},
   "source": [
    "Input the part names according the part list. \n",
    "\n",
    "Please refer to the project README.md file."
   ]
  },
  {
   "cell_type": "code",
   "execution_count": 26,
   "id": "1d0ee0c3",
   "metadata": {},
   "outputs": [],
   "source": [
    "INPUT = [\"F15\",\"A20\",\"W20\", \"N20.B\"]"
   ]
  },
  {
   "cell_type": "markdown",
   "id": "8b8cb2f7",
   "metadata": {},
   "source": [
    "Input the part list in the search confgiuration function which will output the corresponding test entries and run numbers."
   ]
  },
  {
   "cell_type": "code",
   "execution_count": 25,
   "id": "4145cbd3",
   "metadata": {},
   "outputs": [],
   "source": [
    "test_list, run_num_list = runlog_search.search_configuration(INPUT)"
   ]
  },
  {
   "cell_type": "markdown",
   "id": "57ff7ea6",
   "metadata": {},
   "source": [
    "Exclude the yaw runs from the run_num_list and input to data extract to pull the corresponding data frame"
   ]
  },
  {
   "cell_type": "code",
   "execution_count": 39,
   "id": "81cc4d81",
   "metadata": {},
   "outputs": [],
   "source": [
    "test = test_list\n",
    "run_num = [run_num_list[0][0:3]])\n",
    "df_log_sub, df_data_sub = data_extract(df_log, df_data, test, run_num)"
   ]
  },
  {
   "cell_type": "markdown",
   "id": "6b466543",
   "metadata": {},
   "source": [
    "Then truncate, align and differentiate the data for further analysis by using data_interp_der fucntion"
   ]
  },
  {
   "cell_type": "code",
   "execution_count": 38,
   "id": "7f86582e",
   "metadata": {},
   "outputs": [],
   "source": [
    "df_data_sub_interp, df_data_sub_derivative = data_interp_der(df_log_sub, df_data_sub, test, run_num)"
   ]
  },
  {
   "cell_type": "markdown",
   "id": "26ff4dec",
   "metadata": {},
   "source": [
    "Finally visualize the data either using Altair or data_plt function\n",
    "specifiy the "
   ]
  },
  {
   "cell_type": "code",
   "execution_count": null,
   "id": "ad6a31d5",
   "metadata": {},
   "outputs": [],
   "source": [
    "plot_vars = [\"CLSA\", \"CDSA\", \"CYSA\", \"CMSA25\", \"CNSA25\", \"CRSA25\", \"LOD\"]\n",
    "data_plt(plot_vars, df_log_sub_interp, df_data_sub, test, run_num)"
   ]
  }
 ],
 "metadata": {
  "kernelspec": {
   "display_name": "Python 3 (ipykernel)",
   "language": "python",
   "name": "python3"
  },
  "language_info": {
   "codemirror_mode": {
    "name": "ipython",
    "version": 3
   },
   "file_extension": ".py",
   "mimetype": "text/x-python",
   "name": "python",
   "nbconvert_exporter": "python",
   "pygments_lexer": "ipython3",
   "version": "3.9.12"
  }
 },
 "nbformat": 4,
 "nbformat_minor": 5
}
